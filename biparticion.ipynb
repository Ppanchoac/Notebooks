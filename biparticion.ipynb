{
 "cells": [
  {
   "cell_type": "markdown",
   "metadata": {},
   "source": [
    "Biparticion"
   ]
  },
  {
   "cell_type": "code",
   "execution_count": 1,
   "metadata": {},
   "outputs": [],
   "source": [
    "import numpy as np"
   ]
  },
  {
   "cell_type": "code",
   "execution_count": 4,
   "metadata": {},
   "outputs": [],
   "source": [
    "def f(x):\n",
    "    f=x**2-9\n",
    "    return f"
   ]
  },
  {
   "cell_type": "code",
   "execution_count": 9,
   "metadata": {},
   "outputs": [
    {
     "name": "stdout",
     "output_type": "stream",
     "text": [
      "Ingrese cota inferior: 1\n",
      "Ingrese cota superior: 6\n",
      "Ingrese error: 0.00001\n",
      "1 3.5 1e-05\n",
      "2 2.25 1e-05\n",
      "3 2.875 1e-05\n",
      "4 3.1875 1e-05\n",
      "5 3.03125 1e-05\n",
      "6 2.953125 1e-05\n",
      "7 2.9921875 1e-05\n",
      "8 3.01171875 1e-05\n",
      "9 3.001953125 1e-05\n",
      "10 2.9970703125 1e-05\n",
      "11 2.99951171875 1e-05\n",
      "12 3.000732421875 1e-05\n",
      "13 3.0001220703125 1e-05\n",
      "14 2.99981689453125 1e-05\n",
      "15 2.999969482421875 1e-05\n",
      "16 3.0000457763671875 1e-05\n",
      "17 3.0000076293945312 1e-05\n",
      "18 2.999988555908203 1e-05\n",
      "19 2.999998092651367 1e-05\n",
      "20 3.000002861022949 1e-05\n"
     ]
    }
   ],
   "source": [
    "a=int(input('Ingrese cota inferior: '))\n",
    "b=int(input('Ingrese cota superior: '))\n",
    "error=float(input('Ingrese error: '))\n",
    "x=(a+b)/2\n",
    "rango=error*10\n",
    "contador = 1\n",
    "while(rango > error):\n",
    "    rango=abs(a-b)\n",
    "    if(f(b)*f(x) < 0):\n",
    "        a=x\n",
    "    else:\n",
    "        b=x\n",
    "    print(contador,x,error)\n",
    "    x=(a+b)/2\n",
    "    contador=contador+1\n",
    "\n",
    "    "
   ]
  },
  {
   "cell_type": "code",
   "execution_count": null,
   "metadata": {},
   "outputs": [],
   "source": []
  }
 ],
 "metadata": {
  "kernelspec": {
   "display_name": "Python 3",
   "language": "python",
   "name": "python3"
  },
  "language_info": {
   "codemirror_mode": {
    "name": "ipython",
    "version": 3
   },
   "file_extension": ".py",
   "mimetype": "text/x-python",
   "name": "python",
   "nbconvert_exporter": "python",
   "pygments_lexer": "ipython3",
   "version": "3.6.4"
  }
 },
 "nbformat": 4,
 "nbformat_minor": 2
}
