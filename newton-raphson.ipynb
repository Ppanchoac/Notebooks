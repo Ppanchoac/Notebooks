{
 "cells": [
  {
   "cell_type": "markdown",
   "metadata": {},
   "source": [
    "Metodo Newton-Raphson"
   ]
  },
  {
   "cell_type": "code",
   "execution_count": 8,
   "metadata": {},
   "outputs": [],
   "source": [
    "import numpy as np"
   ]
  },
  {
   "cell_type": "code",
   "execution_count": 10,
   "metadata": {},
   "outputs": [],
   "source": [
    "def f(x):\n",
    "    f= -(x**3)*(np.cos(x))**2 -2*x**2 -10*x+20 -(np.exp(x))\n",
    "    return f"
   ]
  },
  {
   "cell_type": "markdown",
   "metadata": {},
   "source": [
    "Aqui definimos la funcion f, de aqui en adelante f = funcion (lo hace el return)"
   ]
  },
  {
   "cell_type": "code",
   "execution_count": 11,
   "metadata": {},
   "outputs": [],
   "source": [
    "def df(x):\n",
    "    df=-3*(x**2)*(np.cos(x))**2+2*(x**3)*(np.sin(2*x))-4*x-10-np.exp(x)\n",
    "    return df"
   ]
  },
  {
   "cell_type": "markdown",
   "metadata": {},
   "source": [
    "Y su respectiva derivada"
   ]
  },
  {
   "cell_type": "code",
   "execution_count": 13,
   "metadata": {},
   "outputs": [
    {
     "name": "stdout",
     "output_type": "stream",
     "text": [
      "Ingrese semilla:-8\n",
      "Ingrese error: 0.0002\n",
      "1 -8.061980948596842 0.06198094859684211\n",
      "2 -8.079137698185647 0.017156749588805198\n",
      "3 -8.086906398338296 0.007768700152649188\n",
      "4 -8.090682877553219 0.0037764792149221904\n",
      "5 -8.092569250007962 0.0018863724547433236\n",
      "6 -8.093523128455223 0.000953878447260692\n",
      "7 -8.094008333033232 0.00048520457800904637\n",
      "8 -8.094255865105652 0.00024753207241978714\n",
      "9 -8.094382333110927 0.0001264680052752709\n"
     ]
    }
   ],
   "source": [
    "x0=float(input('Ingrese semilla:'))\n",
    "error=float(input('Ingrese error: '))\n",
    "rango=error*10\n",
    "contador=1\n",
    "while (rango > error):\n",
    "    z=-(f(x0)/df(x0)) + x0\n",
    "    rango=abs(z-x0)\n",
    "    print(contador,z,rango)\n",
    "    x0=z\n",
    "    contador =contador+1"
   ]
  },
  {
   "cell_type": "markdown",
   "metadata": {},
   "source": [
    "z tomara el valor x1, la semilla x0 y desde x0 en adelante buscaremos acortar distancias\n",
    "el error sera la distancia entre $x_{i}$ y $x_{i-1}$"
   ]
  },
  {
   "cell_type": "code",
   "execution_count": null,
   "metadata": {},
   "outputs": [],
   "source": []
  }
 ],
 "metadata": {
  "kernelspec": {
   "display_name": "Python 3",
   "language": "python",
   "name": "python3"
  },
  "language_info": {
   "codemirror_mode": {
    "name": "ipython",
    "version": 3
   },
   "file_extension": ".py",
   "mimetype": "text/x-python",
   "name": "python",
   "nbconvert_exporter": "python",
   "pygments_lexer": "ipython3",
   "version": "3.6.4"
  }
 },
 "nbformat": 4,
 "nbformat_minor": 2
}
