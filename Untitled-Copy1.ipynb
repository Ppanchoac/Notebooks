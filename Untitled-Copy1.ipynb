{
 "cells": [
  {
   "cell_type": "code",
   "execution_count": 1,
   "metadata": {},
   "outputs": [],
   "source": [
    "import numpy as np"
   ]
  },
  {
   "cell_type": "code",
   "execution_count": 2,
   "metadata": {},
   "outputs": [],
   "source": [
    "def g(x):\n",
    "    g=np.cos(x)*np.sin(3*x)+np.sin(x/2)\n",
    "    return g\n"
   ]
  },
  {
   "cell_type": "code",
   "execution_count": 38,
   "metadata": {},
   "outputs": [
    {
     "name": "stdout",
     "output_type": "stream",
     "text": [
      "Ingrese N: 20\n",
      "Cota inferior: -10\n",
      "Cota superior: 5\n"
     ]
    }
   ],
   "source": [
    "n=int(input('Ingrese N: '))\n",
    "a=float(input('Cota inferior: '))\n",
    "b=float(input('Cota superior: '))\n",
    "x0=a\n",
    "xn=b\n",
    "xi=[]\n",
    "xp=[]\n",
    "if (a>=0):\n",
    "    for i in range(0, n+1):\n",
    "        x=a+(b-a)*i/n \n",
    "        xi.append(x)\n",
    "else:\n",
    "    bprima=b\n",
    "    b=0\n",
    "    for i in range(0,n+1):\n",
    "        x=a+(b-a)*i/n\n",
    "        xi.append(x)\n",
    "    for i in range(0,n+1):\n",
    "        a=0\n",
    "        x=a+(bprima-a)*i/n\n",
    "        xp.append(x)"
   ]
  },
  {
   "cell_type": "code",
   "execution_count": 39,
   "metadata": {},
   "outputs": [
    {
     "name": "stdout",
     "output_type": "stream",
     "text": [
      "-0.0\n"
     ]
    }
   ],
   "source": [
    "s2=0\n",
    "s1=0\n",
    "for j in range(1,n,2):\n",
    "    s1=s1+4*g(xi[j])\n",
    "\n",
    "for j in range(2,n,2):\n",
    "    s2=s2+2*g(xi[j])\n",
    "s=s1+s2+g(xi[0])+g(xi[n])\n",
    "s=(b-a)*s/(3*n)\n",
    "print(s)\n"
   ]
  },
  {
   "cell_type": "code",
   "execution_count": 36,
   "metadata": {},
   "outputs": [
    {
     "name": "stdout",
     "output_type": "stream",
     "text": [
      "-1.7886309042197828\n"
     ]
    }
   ],
   "source": []
  },
  {
   "cell_type": "code",
   "execution_count": 37,
   "metadata": {},
   "outputs": [
    {
     "name": "stdout",
     "output_type": "stream",
     "text": [
      "4.137282733189059\n",
      "2.3486518289692757\n"
     ]
    }
   ],
   "source": [
    "s2=0\n",
    "s1=0\n",
    "for j in range(1,len(ximas),2):\n",
    "    if(ximas[j]>=0):\n",
    "        s1=s1+4*g(ximas[j])\n",
    "\n",
    "for j in range(2,len(ximas),2):\n",
    "    if(ximas[j]>=0):\n",
    "        s2=s2+2*g(ximas[j])\n",
    "\n",
    "s3=s1+s2+g(x0)+g(xn)\n",
    "s3=(b-a)*s3/(3*n)\n",
    "print(s3)\n",
    "print(s4+s3)"
   ]
  }
 ],
 "metadata": {
  "kernelspec": {
   "display_name": "Python 3",
   "language": "python",
   "name": "python3"
  },
  "language_info": {
   "codemirror_mode": {
    "name": "ipython",
    "version": 3
   },
   "file_extension": ".py",
   "mimetype": "text/x-python",
   "name": "python",
   "nbconvert_exporter": "python",
   "pygments_lexer": "ipython3",
   "version": "3.6.4"
  }
 },
 "nbformat": 4,
 "nbformat_minor": 2
}
