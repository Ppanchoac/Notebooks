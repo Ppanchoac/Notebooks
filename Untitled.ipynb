{
 "cells": [
  {
   "cell_type": "code",
   "execution_count": 87,
   "metadata": {},
   "outputs": [],
   "source": [
    "import numpy as np"
   ]
  },
  {
   "cell_type": "code",
   "execution_count": 97,
   "metadata": {},
   "outputs": [],
   "source": [
    "def g(x):\n",
    "    g=np.cos(x)*np.sin(3*x)+np.sin(x/2)\n",
    "    return g\n"
   ]
  },
  {
   "cell_type": "code",
   "execution_count": 107,
   "metadata": {},
   "outputs": [
    {
     "name": "stdout",
     "output_type": "stream",
     "text": [
      "Ingrese N: 500\n",
      "Cota inferior: -10\n",
      "Cota superior: 20\n"
     ]
    }
   ],
   "source": [
    "n=int(input('Ingrese N: '))\n",
    "a=float(input('Cota inferior: '))\n",
    "b=float(input('Cota superior: '))\n",
    "x0=a\n",
    "xn=b\n",
    "xi=[]\n",
    "for i in range(0, n+1):\n",
    "    x=a+(b-a)*i/n \n",
    "    xi.append(x)"
   ]
  },
  {
   "cell_type": "code",
   "execution_count": 108,
   "metadata": {},
   "outputs": [
    {
     "name": "stdout",
     "output_type": "stream",
     "text": [
      "2.4446526368227137\n"
     ]
    }
   ],
   "source": [
    "s2=0\n",
    "s1=0\n",
    "for j in range(1,n,2):\n",
    "    s1=s1+4*g(xi[j])\n",
    "\n",
    "for j in range(2,n,2):\n",
    "    s2=s2+2*g(xi[j])\n",
    "s=s1+s2+g(xi[0])+g(xi[n])\n",
    "s=(b-a)*s/(3*n)\n",
    "print(s)"
   ]
  },
  {
   "cell_type": "code",
   "execution_count": 109,
   "metadata": {},
   "outputs": [
    {
     "name": "stdout",
     "output_type": "stream",
     "text": [
      "-1.8023907149275837\n"
     ]
    }
   ],
   "source": [
    "s2=0\n",
    "s1=0\n",
    "for j in range(1,n,2):\n",
    "    if(xi[j]<0):\n",
    "        s1=s1+4*g(xi[j])\n",
    "\n",
    "for j in range(2,n,2):\n",
    "    if(xi[j]<0):\n",
    "        s2=s2+2*g(xi[j])\n",
    "        \n",
    "s4=s1+s2+g(xi[0])+g(xi[n])\n",
    "s4=(b-a)*s4/(3*n)\n",
    "print(s4)\n"
   ]
  },
  {
   "cell_type": "code",
   "execution_count": 110,
   "metadata": {},
   "outputs": [
    {
     "name": "stdout",
     "output_type": "stream",
     "text": [
      "4.236273075979261\n",
      "2.433882361051677\n"
     ]
    }
   ],
   "source": [
    "s2=0\n",
    "s1=0\n",
    "for j in range(1,n,2):\n",
    "    if(xi[j]>=0):\n",
    "        s1=s1+4*g(xi[j])\n",
    "\n",
    "for j in range(2,n,2):\n",
    "    if(xi[j]>=0):\n",
    "        s2=s2+2*g(xi[j])\n",
    "        \n",
    "s3=s1+s2+g(xi[0])+g(xi[n])\n",
    "s3=(b-a)*s3/(3*n)\n",
    "print(s3)\n",
    "print(s4+s3)"
   ]
  }
 ],
 "metadata": {
  "kernelspec": {
   "display_name": "Python 3",
   "language": "python",
   "name": "python3"
  },
  "language_info": {
   "codemirror_mode": {
    "name": "ipython",
    "version": 3
   },
   "file_extension": ".py",
   "mimetype": "text/x-python",
   "name": "python",
   "nbconvert_exporter": "python",
   "pygments_lexer": "ipython3",
   "version": "3.6.4"
  }
 },
 "nbformat": 4,
 "nbformat_minor": 2
}
