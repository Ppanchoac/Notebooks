{
 "cells": [
  {
   "cell_type": "code",
   "execution_count": 4,
   "metadata": {},
   "outputs": [],
   "source": [
    "import numpy as np"
   ]
  },
  {
   "cell_type": "code",
   "execution_count": 32,
   "metadata": {},
   "outputs": [],
   "source": [
    "def g(x):\n",
    "    g=np.cos(x)*np.sin(3*x)+np.sin(x/2)\n",
    "    return g\n",
    "\n",
    "def h(x):\n",
    "    h=np.cos(x)*np.cos(x)*np.sin(x)+np.cos(x/2)*np.cos(x)\n",
    "    return h"
   ]
  },
  {
   "cell_type": "code",
   "execution_count": 44,
   "metadata": {},
   "outputs": [
    {
     "name": "stdout",
     "output_type": "stream",
     "text": [
      "Ingrese N: 500\n",
      "Cota inferior: -6.28318\n",
      "Cota superior: 6.28318\n"
     ]
    }
   ],
   "source": [
    "n=int(input('Ingrese N: '))\n",
    "a=float(input('Cota inferior: '))\n",
    "b=float(input('Cota superior: '))\n",
    "x0=a\n",
    "xn=b\n",
    "xi=[]\n",
    "xp=[]\n",
    "xo=[]\n",
    "for i in range(0, n+1):\n",
    "    x=a+(b-a)*i/n \n",
    "    xo.append(x)"
   ]
  },
  {
   "cell_type": "code",
   "execution_count": 45,
   "metadata": {},
   "outputs": [
    {
     "name": "stdout",
     "output_type": "stream",
     "text": [
      "7.085017557824831e-16\n"
     ]
    }
   ],
   "source": [
    "s2=0\n",
    "s1=0\n",
    "for j in range(1,n,2):\n",
    "    s1=s1+4*g(xo[j])\n",
    "\n",
    "for j in range(2,n,2):\n",
    "    s2=s2+2*g(xo[j])\n",
    "s=s1+s2+g(xo[0])+g(xo[n])\n",
    "s=(b-a)*s/(3*n)\n",
    "print(s)"
   ]
  },
  {
   "cell_type": "code",
   "execution_count": 46,
   "metadata": {},
   "outputs": [],
   "source": [
    "if (a>=0):\n",
    "    for i in range(0, n+1):\n",
    "        x=a+(b-a)*i/n \n",
    "        xi.append(x)\n",
    "else:\n",
    "    bprima=b\n",
    "    b=0\n",
    "    for i in range(0,n+1):\n",
    "        x=a+(b-a)*i/n\n",
    "        xi.append(x)\n",
    "    for i in range(0,n+1):\n",
    "        a=0\n",
    "        x=a+(bprima-a)*i/n\n",
    "        xp.append(x)\n"
   ]
  },
  {
   "cell_type": "code",
   "execution_count": 47,
   "metadata": {},
   "outputs": [
    {
     "name": "stdout",
     "output_type": "stream",
     "text": [
      "-4.000000000069842\n",
      "-2.6666824437659318\n",
      "-2.6666824437659318\n"
     ]
    }
   ],
   "source": [
    "s2=0\n",
    "t2=0\n",
    "t1=0\n",
    "s1=0\n",
    "for j in range(1,n,2):\n",
    "    s1=s1+4*g(xi[j])\n",
    "    t1=t1+4*g(xi[j])\n",
    "    \n",
    "for j in range(2,n,2):\n",
    "    if(xi[j]<0):\n",
    "        s2=s2+2*g(xi[j])\n",
    "        t2=t2+2*h(xi[j])\n",
    "s4=s1+s2+g(xi[0])+g(xi[n])\n",
    "t4=t1+t2+h(xi[0])+h(xi[n])\n",
    "s4=(-x0)*s4/(3*n)\n",
    "t4=(-x0)*t4/(3*n)\n",
    "print(s4)\n",
    "print(t4)\n",
    "if (s4>t4):\n",
    "    mayornegativo=s4\n",
    "else:\n",
    "    mayornegativo=t4\n",
    "print(mayornegativo)"
   ]
  },
  {
   "cell_type": "code",
   "execution_count": 48,
   "metadata": {},
   "outputs": [
    {
     "name": "stdout",
     "output_type": "stream",
     "text": [
      "4.000000000069841\n",
      "5.3071936713131585e-06\n",
      "-8.881784197001252e-16\n",
      "-2.6666771365722606\n",
      "4.000000000069841\n",
      "Integral final:  2.0943703198933283\n"
     ]
    }
   ],
   "source": [
    "s2=0\n",
    "s1=0\n",
    "t1=0\n",
    "t2=0\n",
    "for j in range(1,n,2):\n",
    "    if(xp[j]>=0):\n",
    "        s1=s1+4*g(xp[j])\n",
    "        t1=t1+4*h(xp[j])\n",
    "for j in range(2,n,2):\n",
    "    if(xp[j]>=0):\n",
    "        s2=s2+2*g(xp[j])\n",
    "        t2=t2+2*h(xp[j])\n",
    "s3=s1+s2+g(xp[0])+g(xp[n])\n",
    "t3=t1+t2+h(xp[0])+h(xp[n])\n",
    "s3=(xn)*s3/(3*n)\n",
    "t3=(xn)*t3/(3*n)\n",
    "print(s3)\n",
    "print(t3)\n",
    "print(s4+s3)\n",
    "print(t4+t3)\n",
    "if(s3>t3):\n",
    "    mayorpositivo=s3\n",
    "else:\n",
    "    mayorpositivo=s4\n",
    "print(mayorpositivo)\n",
    "print('Integral final: ',np.pi*(mayornegativo+mayorpositivo)/2)"
   ]
  }
 ],
 "metadata": {
  "kernelspec": {
   "display_name": "Python 3",
   "language": "python",
   "name": "python3"
  },
  "language_info": {
   "codemirror_mode": {
    "name": "ipython",
    "version": 3
   },
   "file_extension": ".py",
   "mimetype": "text/x-python",
   "name": "python",
   "nbconvert_exporter": "python",
   "pygments_lexer": "ipython3",
   "version": "3.6.4"
  }
 },
 "nbformat": 4,
 "nbformat_minor": 2
}
