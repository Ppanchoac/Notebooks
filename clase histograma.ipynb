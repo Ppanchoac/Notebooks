{
 "cells": [
  {
   "cell_type": "code",
   "execution_count": 2,
   "metadata": {},
   "outputs": [],
   "source": [
    "import numpy as np\n",
    "import matplotlib.pyplot as plt\n",
    "%matplotlib inline "
   ]
  },
  {
   "cell_type": "code",
   "execution_count": 17,
   "metadata": {},
   "outputs": [],
   "source": [
    "x=np.array([9.5,9.9,10.1,10.3,9.8,10.2,10.5,10.0,10.1,10.4,10.3,9.7,9.9,10.1,10.4])"
   ]
  },
  {
   "cell_type": "code",
   "execution_count": 15,
   "metadata": {},
   "outputs": [
    {
     "data": {
      "image/png": "[encoded data removed]",
      "text/plain": [
       "<matplotlib.figure.Figure at 0x7fb196453510>"
      ]
     },
     "metadata": {},
     "output_type": "display_data"
    }
   ],
   "source": [
    "plt.scatter(range(1,len(x)+1),x)\n",
    "plt.ylim(0,20)\n",
    "plt.xlim(0,16)\n",
    "plt.xlabel('Numero de medicion')\n",
    "plt.ylabel('Valor medio')\n",
    "plt.hlines(np.mean(x),0,16)\n",
    "plt.grid(True)"
   ]
  },
  {
   "cell_type": "code",
   "execution_count": 16,
   "metadata": {},
   "outputs": [
    {
     "name": "stdout",
     "output_type": "stream",
     "text": [
      "(9.5, 10.5)\n"
     ]
    }
   ],
   "source": [
    "print(np.min(x),np.max(x))"
   ]
  },
  {
   "cell_type": "code",
   "execution_count": 18,
   "metadata": {},
   "outputs": [
    {
     "name": "stdout",
     "output_type": "stream",
     "text": [
      "[  9.5   9.9  10.1  10.3   9.8  10.2  10.5  10.   10.1  10.4  10.3   9.7\n",
      "   9.9  10.1  10.4]\n"
     ]
    }
   ],
   "source": [
    "print(x)"
   ]
  },
  {
   "cell_type": "code",
   "execution_count": 20,
   "metadata": {},
   "outputs": [
    {
     "name": "stdout",
     "output_type": "stream",
     "text": [
      "[ True  True False False  True False False False False False False  True\n",
      "  True False False]\n"
     ]
    }
   ],
   "source": [
    "print(x<10)"
   ]
  },
  {
   "cell_type": "code",
   "execution_count": null,
   "metadata": {},
   "outputs": [],
   "source": [
    "c=x<9.8\n",
    "print(c)"
   ]
  },
  {
   "cell_type": "markdown",
   "metadata": {},
   "source": [
    "c en este caso seria una condicion"
   ]
  },
  {
   "cell_type": "code",
   "execution_count": 23,
   "metadata": {},
   "outputs": [
    {
     "data": {
      "text/plain": [
       "array([ 9.5,  9.7])"
      ]
     },
     "execution_count": 23,
     "metadata": {},
     "output_type": "execute_result"
    }
   ],
   "source": [
    "x[c]"
   ]
  },
  {
   "cell_type": "markdown",
   "metadata": {},
   "source": [
    "x[c] me imprime los x que cumplen la condicion c(los true)\n",
    "Esta es la forma de seleccionar datos bajo un criterio de un array\n"
   ]
  },
  {
   "cell_type": "code",
   "execution_count": 36,
   "metadata": {},
   "outputs": [
    {
     "name": "stdout",
     "output_type": "stream",
     "text": [
      "[ True False False False  True False False False False False False  True\n",
      " False False False]\n",
      "[False  True  True  True  True  True  True  True  True  True  True False\n",
      "  True  True  True]\n"
     ]
    }
   ],
   "source": [
    "c1=x<9.9\n",
    "c2=x>=9.8\n",
    "print(c1)\n",
    "print(c2)"
   ]
  },
  {
   "cell_type": "code",
   "execution_count": 37,
   "metadata": {},
   "outputs": [
    {
     "name": "stdout",
     "output_type": "stream",
     "text": [
      "[ 9.5  9.8  9.7]\n",
      "[  9.9  10.1  10.3   9.8  10.2  10.5  10.   10.1  10.4  10.3   9.9  10.1\n",
      "  10.4]\n",
      "[ 9.8]\n"
     ]
    }
   ],
   "source": [
    "print(x[c1])\n",
    "print(x[c2])\n",
    "print(x[(c1)*(c2)])"
   ]
  },
  {
   "cell_type": "code",
   "execution_count": 39,
   "metadata": {},
   "outputs": [
    {
     "name": "stdout",
     "output_type": "stream",
     "text": [
      "(9.5, 1)\n",
      "(9.5999999999999996, 0)\n",
      "(9.6999999999999993, 1)\n",
      "(9.7999999999999989, 1)\n",
      "(9.8999999999999986, 2)\n",
      "(9.9999999999999982, 1)\n",
      "(10.099999999999998, 3)\n",
      "(10.199999999999998, 1)\n",
      "(10.299999999999997, 2)\n",
      "(10.399999999999997, 2)\n",
      "(10.499999999999996, 1)\n"
     ]
    }
   ],
   "source": [
    "Dx=0.1\n",
    "for li in np.arange(9.5,10.6,Dx):\n",
    "    n=len(x[(x>=li)*(x<li+Dx)])\n",
    "    print(li,n)"
   ]
  },
  {
   "cell_type": "code",
   "execution_count": 43,
   "metadata": {},
   "outputs": [],
   "source": [
    "n, intervalos = np.histogram(x,bins=10)"
   ]
  },
  {
   "cell_type": "markdown",
   "metadata": {},
   "source": [
    "notar que el np.histogram hace lo mismo que el ciclo for, pero mas bonito y facil \\\\\n",
    "esta programado de la forma [,) y en el ultimo []\n",
    "El bins= nro de intervalos "
   ]
  },
  {
   "cell_type": "code",
   "execution_count": 46,
   "metadata": {},
   "outputs": [
    {
     "data": {
      "text/plain": [
       "<matplotlib.text.Text at 0x7fb196436c50>"
      ]
     },
     "execution_count": 46,
     "metadata": {},
     "output_type": "execute_result"
    },
    {
     "data": {
      "image/png": "[encoded data removed]",
      "text/plain": [
       "<matplotlib.figure.Figure at 0x7fb196357b90>"
      ]
     },
     "metadata": {},
     "output_type": "display_data"
    }
   ],
   "source": [
    "plt.bar(intervalos[:-1], n, width=0.1)\n",
    "plt.grid(True)\n",
    "plt.xlabel('Valores de medicion')\n",
    "plt.ylabel('Valor medido')"
   ]
  },
  {
   "cell_type": "markdown",
   "metadata": {},
   "source": [
    "[:-1] -> Desde el inicio hasta el final -1, dado que intervalos tiene un dato mas que n "
   ]
  },
  {
   "cell_type": "markdown",
   "metadata": {},
   "source": [
    "En este caso, hay que sacarle el ultimo ya que no sirve de nada el ultimo "
   ]
  },
  {
   "cell_type": "code",
   "execution_count": 47,
   "metadata": {},
   "outputs": [
    {
     "data": {
      "text/plain": [
       "(array([ 1.,  1.,  0.,  1.,  2.,  4.,  1.,  0.,  2.,  3.]),\n",
       " array([  9.5,   9.6,   9.7,   9.8,   9.9,  10. ,  10.1,  10.2,  10.3,\n",
       "         10.4,  10.5]),\n",
       " <a list of 10 Patch objects>)"
      ]
     },
     "execution_count": 47,
     "metadata": {},
     "output_type": "execute_result"
    },
    {
     "data": {
      "image/png": "[encoded data removed]",
      "text/plain": [
       "<matplotlib.figure.Figure at 0x7fb196453610>"
      ]
     },
     "metadata": {},
     "output_type": "display_data"
    }
   ],
   "source": [
    "plt.hist(x,bins=10,width=0.1)"
   ]
  },
  {
   "cell_type": "markdown",
   "metadata": {},
   "source": [
    "plt.hist hace toda la wea que hicimos antes "
   ]
  },
  {
   "cell_type": "markdown",
   "metadata": {},
   "source": [
    "inclusive, los arreglos de np.histogram y todo todo "
   ]
  },
  {
   "cell_type": "code",
   "execution_count": null,
   "metadata": {},
   "outputs": [],
   "source": []
  },
  {
   "cell_type": "code",
   "execution_count": null,
   "metadata": {},
   "outputs": [],
   "source": []
  },
  {
   "cell_type": "code",
   "execution_count": null,
   "metadata": {},
   "outputs": [],
   "source": []
  }
 ],
 "metadata": {
  "kernelspec": {
   "display_name": "Python 3",
   "language": "python",
   "name": "python3"
  },
  "language_info": {
   "codemirror_mode": {
    "name": "ipython",
    "version": 3
   },
   "file_extension": ".py",
   "mimetype": "text/x-python",
   "name": "python",
   "nbconvert_exporter": "python",
   "pygments_lexer": "ipython3",
   "version": "3.6.4"
  }
 },
 "nbformat": 4,
 "nbformat_minor": 1
}
