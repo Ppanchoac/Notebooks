{
 "cells": [
  {
   "cell_type": "code",
   "execution_count": 2,
   "metadata": {},
   "outputs": [],
   "source": [
    "import matplotlib.pyplot as plt\n",
    "import numpy as np\n",
    "%matplotlib inline"
   ]
  },
  {
   "cell_type": "code",
   "execution_count": 4,
   "metadata": {},
   "outputs": [
    {
     "name": "stdout",
     "output_type": "stream",
     "text": [
      "[0.1  0.25 0.41 0.56 0.71 0.86 1.02 1.17 1.32 1.47 1.63 1.78 1.93 2.08\n",
      " 2.24 2.39 2.54 2.69 2.85 3.  ]\n",
      "[0.738 0.826 0.981 0.974 0.915 0.897 0.739 0.785 0.635 0.52  0.49  0.428\n",
      " 0.497 0.355 0.359 0.328 0.44  0.441 0.433 0.419]\n"
     ]
    }
   ],
   "source": [
    "d = np.genfromtxt('ej03-3.txt')\n",
    "x = d[:,0]\n",
    "y = d[:,1]\n",
    "print(x)\n",
    "print(y)"
   ]
  },
  {
   "cell_type": "code",
   "execution_count": 11,
   "metadata": {},
   "outputs": [],
   "source": [
    "def f(x,a,b,c):\n",
    "    return a+np.exp(-b*x)*np.sin(c*x)"
   ]
  },
  {
   "cell_type": "code",
   "execution_count": 9,
   "metadata": {},
   "outputs": [],
   "source": [
    "from scipy.optimize import curve_fit"
   ]
  },
  {
   "cell_type": "code",
   "execution_count": 14,
   "metadata": {},
   "outputs": [
    {
     "name": "stdout",
     "output_type": "stream",
     "text": [
      "0.48091595210776134 1.02623345485013 1.916035061692375\n"
     ]
    }
   ],
   "source": [
    "(a,b,c),_=curve_fit(f,x,y)\n",
    "print(a,b,c)"
   ]
  },
  {
   "cell_type": "code",
   "execution_count": 21,
   "metadata": {},
   "outputs": [],
   "source": [
    "chicuad=np.sum((y-f(x,a,b,c))**2)"
   ]
  },
  {
   "cell_type": "code",
   "execution_count": 19,
   "metadata": {},
   "outputs": [
    {
     "data": {
      "text/plain": [
       "[<matplotlib.lines.Line2D at 0x7facca735518>]"
      ]
     },
     "execution_count": 19,
     "metadata": {},
     "output_type": "execute_result"
    },
    {
     "data": {
      "image/png": "[encoded data removed]",
      "text/plain": [
       "<Figure size 432x288 with 1 Axes>"
      ]
     },
     "metadata": {},
     "output_type": "display_data"
    }
   ],
   "source": [
    "plt.scatter(x,y)\n",
    "plt.plot(x,f(x,a,b,c),'--',color='red')"
   ]
  },
  {
   "cell_type": "code",
   "execution_count": 22,
   "metadata": {},
   "outputs": [
    {
     "name": "stdout",
     "output_type": "stream",
     "text": [
      "0.03819275173713937\n"
     ]
    }
   ],
   "source": [
    "print(chicuad)"
   ]
  },
  {
   "cell_type": "code",
   "execution_count": 24,
   "metadata": {},
   "outputs": [],
   "source": [
    "from scipy.optimize import least_squares"
   ]
  },
  {
   "cell_type": "code",
   "execution_count": 26,
   "metadata": {},
   "outputs": [],
   "source": [
    "def ep(a,x,y):\n",
    "    return a[0]+np.exp(-a[1]*x)*np.sin(a[2]*x) - y\n",
    "    #return f(x,a,b,c) = f(x,a[0],a[1],a[2])-y\n",
    "a_in=[0.5,1,2]"
   ]
  },
  {
   "cell_type": "code",
   "execution_count": 27,
   "metadata": {},
   "outputs": [
    {
     "data": {
      "text/plain": [
       " active_mask: array([0., 0., 0.])\n",
       "        cost: 0.019096375868419162\n",
       "         fun: array([-0.0852242 ,  0.01151871, -0.03575093,  0.00147662,  0.03784441,\n",
       "       -0.00358785,  0.06748014, -0.06834579, -0.00574699,  0.03156009,\n",
       "       -0.00561975,  0.01014988, -0.08895164,  0.03753151,  0.03027684,\n",
       "        0.06761587, -0.03198933, -0.01726752,  0.00857936,  0.03845059])\n",
       "        grad: array([-2.87903035e-11,  1.27573993e-07,  1.30133559e-07])\n",
       "         jac: array([[ 1.        , -0.01718597,  0.08859517],\n",
       "       [ 1.        , -0.08915068,  0.17165757],\n",
       "       [ 1.        , -0.19037656,  0.19030937],\n",
       "       [ 1.        , -0.27695394,  0.15051629],\n",
       "       [ 1.        , -0.33506916,  0.07156144],\n",
       "       [ 1.        , -0.35474668, -0.0273676 ],\n",
       "       [ 1.        , -0.3320754 , -0.13400791],\n",
       "       [ 1.        , -0.27581368, -0.21894829],\n",
       "       [ 1.        , -0.19580484, -0.27871169],\n",
       "       [ 1.        , -0.10384679, -0.30817791],\n",
       "       [ 1.        , -0.00564669, -0.30594433],\n",
       "       [ 1.        ,  0.07612373, -0.27618191],\n",
       "       [ 1.        ,  0.14063458, -0.22614241],\n",
       "       [ 1.        ,  0.18383979, -0.16354233],\n",
       "       [ 1.        ,  0.20527177, -0.09178424],\n",
       "       [ 1.        ,  0.20386734, -0.02728859],\n",
       "       [ 1.        ,  0.18517958,  0.02881005],\n",
       "       [ 1.        ,  0.15382371,  0.07274577],\n",
       "       [ 1.        ,  0.11210949,  0.10408803],\n",
       "       [ 1.        ,  0.07039629,  0.11876038]])\n",
       "     message: '`ftol` termination condition is satisfied.'\n",
       "        nfev: 5\n",
       "        njev: 5\n",
       "  optimality: 1.3013355938500115e-07\n",
       "      status: 2\n",
       "     success: True\n",
       "           x: array([0.48091602, 1.02623426, 1.91603567])"
      ]
     },
     "execution_count": 27,
     "metadata": {},
     "output_type": "execute_result"
    }
   ],
   "source": [
    "least_squares(ep,a_in,args=(x,y))"
   ]
  },
  {
   "cell_type": "code",
   "execution_count": 29,
   "metadata": {},
   "outputs": [],
   "source": [
    "a2,b2,c2 = least_squares(ep,a_in,args=(x,y)).x"
   ]
  },
  {
   "cell_type": "code",
   "execution_count": 33,
   "metadata": {},
   "outputs": [
    {
     "data": {
      "text/plain": [
       "<matplotlib.legend.Legend at 0x7facca856f98>"
      ]
     },
     "execution_count": 33,
     "metadata": {},
     "output_type": "execute_result"
    },
    {
     "data": {
      "image/png": "[encoded data removed]",
      "text/plain": [
       "<Figure size 432x288 with 1 Axes>"
      ]
     },
     "metadata": {},
     "output_type": "display_data"
    }
   ],
   "source": [
    "plt.scatter(x,y)\n",
    "plt.plot(x,f(x,a2,b2,c2),label='Least squares')\n",
    "plt.plot(x,f(x,a,b,c),'--',color='red',label='polyfit')\n",
    "plt.legend()"
   ]
  },
  {
   "cell_type": "code",
   "execution_count": 35,
   "metadata": {},
   "outputs": [
    {
     "data": {
      "text/plain": [
       "<matplotlib.collections.PathCollection at 0x7facca5a3cc0>"
      ]
     },
     "execution_count": 35,
     "metadata": {},
     "output_type": "execute_result"
    },
    {
     "data": {
      "image/png": "[encoded data removed]",
      "text/plain": [
       "<Figure size 432x288 with 1 Axes>"
      ]
     },
     "metadata": {},
     "output_type": "display_data"
    }
   ],
   "source": [
    "#residuos\n",
    "ep = y- (f(x,a2,b2,c2))\n",
    "plt.scatter(x,ep)"
   ]
  }
 ],
 "metadata": {
  "kernelspec": {
   "display_name": "Python 3",
   "language": "python",
   "name": "python3"
  },
  "language_info": {
   "codemirror_mode": {
    "name": "ipython",
    "version": 3
   },
   "file_extension": ".py",
   "mimetype": "text/x-python",
   "name": "python",
   "nbconvert_exporter": "python",
   "pygments_lexer": "ipython3",
   "version": "3.6.4"
  }
 },
 "nbformat": 4,
 "nbformat_minor": 2
}
